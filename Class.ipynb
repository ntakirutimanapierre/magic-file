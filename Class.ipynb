{
 "cells": [
  {
   "cell_type": "code",
   "execution_count": 50,
   "id": "a992d5fe",
   "metadata": {},
   "outputs": [],
   "source": [
    "def Algo(a,b):\n",
    "    v=[1,0]\n",
    "    u=[0,1]\n",
    "    listt=[a,b]\n",
    "    quo=a//b\n",
    "    rem=a%b\n",
    "    while rem>0:\n",
    "        c=v[1]; d=u[1]\n",
    "        v[1]=v[0]-quo*v[1]\n",
    "        v[0]=c\n",
    "        u[1]=u[0]-quo*u[1]\n",
    "        u[0]=d\n",
    "        return Algo(b,rem)\n",
    "    return listt[1],u[1],v[1]"
   ]
  },
  {
   "cell_type": "code",
   "execution_count": 51,
   "id": "6347a77a",
   "metadata": {},
   "outputs": [
    {
     "data": {
      "text/plain": [
       "(105, 1, 0)"
      ]
     },
     "execution_count": 51,
     "metadata": {},
     "output_type": "execute_result"
    }
   ],
   "source": [
    "Algo(17640,525)"
   ]
  },
  {
   "cell_type": "code",
   "execution_count": 1,
   "id": "dd8bd564",
   "metadata": {},
   "outputs": [],
   "source": [
    "def bina(n,l):\n",
    "    a=''\n",
    "    while len(a)<l:\n",
    "        rem=n%2\n",
    "        n=n//2\n",
    "        a+=f'{rem}'\n",
    "    return a[::-1]"
   ]
  },
  {
   "cell_type": "code",
   "execution_count": 227,
   "id": "8446a214",
   "metadata": {},
   "outputs": [
    {
     "data": {
      "text/plain": [
       "'0000000101'"
      ]
     },
     "execution_count": 227,
     "metadata": {},
     "output_type": "execute_result"
    }
   ],
   "source": [
    "bina(5,10)"
   ]
  },
  {
   "cell_type": "code",
   "execution_count": 107,
   "id": "111f8d57",
   "metadata": {},
   "outputs": [],
   "source": []
  },
  {
   "cell_type": "code",
   "execution_count": 202,
   "id": "0c376963",
   "metadata": {},
   "outputs": [
    {
     "data": {
      "text/plain": [
       "('111221110', '001011001100010101000001001010')"
      ]
     },
     "execution_count": 202,
     "metadata": {},
     "output_type": "execute_result"
    }
   ],
   "source": [
    "def change(string1):\n",
    "    import string\n",
    "    di={'a':11,'b':12, 'c':13, 'd':14, 'e':15,'f':16,'g':17,'h':18,'i':19,'j':20, 'l':21,'m':22,'n':23,\n",
    "       'o':24,'p':25,'1':1,' ':10}\n",
    "    enc=''\n",
    "    binary=''\n",
    "    for i in string1.lower():\n",
    "        enc+= f'{di[i]}'\n",
    "        binary+=f'{bina(di[i],6)}' \n",
    "    return enc, binary\n",
    "change('abl1 ')       "
   ]
  },
  {
   "cell_type": "code",
   "execution_count": 198,
   "id": "12264c5c",
   "metadata": {},
   "outputs": [],
   "source": []
  },
  {
   "cell_type": "code",
   "execution_count": 6,
   "id": "3675a93e",
   "metadata": {},
   "outputs": [
    {
     "data": {
      "text/plain": [
       "'001011001100000000101000101100111101000000000010100100100100110101000000001010010110010111000000101001100101001101001101010000000010100111100101000000001010011001001100100011100100001100100110001011010100'"
      ]
     },
     "execution_count": 6,
     "metadata": {},
     "output_type": "execute_result"
    }
   ],
   "source": [
    "def change(string1):\n",
    "    import string\n",
    "    enc=''\n",
    "    T=string.ascii_uppercase\n",
    "    string1=string1.upper()\n",
    "    for i in string1:\n",
    "        if i.isdigit():\n",
    "            enc=enc+f'{bina(int(i),6)}'\n",
    "        if i==' ':\n",
    "            enc=enc+ f'{bina(10,10)}'\n",
    "        if i in T:\n",
    "            enc=enc+f'{bina(11+string1.find(i),6)}' \n",
    "    return enc\n",
    "change('HI how let us meet at midnight')       "
   ]
  },
  {
   "cell_type": "code",
   "execution_count": null,
   "id": "d0a26360",
   "metadata": {},
   "outputs": [],
   "source": []
  },
  {
   "cell_type": "code",
   "execution_count": 235,
   "id": "7a4ca967",
   "metadata": {},
   "outputs": [],
   "source": [
    "def Eucld(a,b):\n",
    "    q=a//b\n",
    "    r=a%b\n",
    "    u=[1,0]\n",
    "    v=[0,1]\n",
    "    while r>0:\n",
    "        ui=u[0]-u[1]*q\n",
    "        vi=v[0]-v[1]*q\n",
    "        a=b\n",
    "        b=r\n",
    "        q=a//b\n",
    "        r=a%b\n",
    "        u[0],u[1]=u[1],ui\n",
    "        v[0],v[1]=v[1],vi  \n",
    "    return [b,ui,vi]"
   ]
  },
  {
   "cell_type": "code",
   "execution_count": null,
   "id": "47f966c2",
   "metadata": {},
   "outputs": [],
   "source": []
  }
 ],
 "metadata": {
  "kernelspec": {
   "display_name": "SageMath 9.2",
   "language": "sage",
   "name": "sagemath"
  },
  "language_info": {
   "codemirror_mode": {
    "name": "ipython",
    "version": 3
   },
   "file_extension": ".py",
   "mimetype": "text/x-python",
   "name": "python",
   "nbconvert_exporter": "python",
   "pygments_lexer": "ipython3",
   "version": "3.9.2"
  }
 },
 "nbformat": 4,
 "nbformat_minor": 5
}
